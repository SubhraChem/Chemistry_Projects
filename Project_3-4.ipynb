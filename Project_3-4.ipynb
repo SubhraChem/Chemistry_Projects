{
 "cells": [
  {
   "cell_type": "code",
   "execution_count": 63,
   "metadata": {
    "id": "WzLzr0A0_YFz"
   },
   "outputs": [],
   "source": [
    "import math\n",
    "import numpy as np\n",
    "import pandas as pd"
   ]
  },
  {
   "cell_type": "markdown",
   "metadata": {
    "id": "elLvgAUuDXAY"
   },
   "source": [
    "# Project 3: **The Hartree-Fock self-consistent field (SCF) procedure**\n"
   ]
  },
  {
   "cell_type": "markdown",
   "metadata": {
    "id": "Uc10wLkTLz4e"
   },
   "source": [
    "This project is a simple implementation of the self-consistent-field method. "
   ]
  },
  {
   "cell_type": "markdown",
   "metadata": {
    "id": "9_GkREj8_RPj"
   },
   "source": [
    "## **Integral Preprocessing**"
   ]
  },
  {
   "cell_type": "code",
   "execution_count": 64,
   "metadata": {
    "id": "L1dmtfqEbCuA"
   },
   "outputs": [],
   "source": [
    "molecule = \"H\\u2082O\"\n",
    "\n",
    "N = 10 #number of total electrons\n",
    "\n",
    "n_basis = np.array([5,1,1]) # we have 5 AOs on 1st atom (O), 1 AOs on 2nd atom (H), 1 AOs on 3rd atom (H)"
   ]
  },
  {
   "cell_type": "markdown",
   "metadata": {
    "id": "rxldLc87Jd1C"
   },
   "source": [
    "### Step 1: **Nuclear Repulsion Energy**"
   ]
  },
  {
   "cell_type": "markdown",
   "metadata": {
    "id": "P6wDI-QGFgjX"
   },
   "source": [
    "Read the nuclear repulsion energy $E_{nuc}$ "
   ]
  },
  {
   "cell_type": "code",
   "execution_count": 65,
   "metadata": {
    "id": "m3PrFJveDVfE"
   },
   "outputs": [],
   "source": [
    "E_nuc = np.genfromtxt(\"enuc.dat.txt\")"
   ]
  },
  {
   "cell_type": "markdown",
   "metadata": {
    "id": "pL-B_OufJhDQ"
   },
   "source": [
    "### Step 2: **One-Electron Integrals**"
   ]
  },
  {
   "cell_type": "markdown",
   "metadata": {
    "id": "wiPwV8h5Flkr"
   },
   "source": [
    "Read the AO-basis overlap $$S_{\\mu\\nu}=\\int \\phi_\\mu^*(\\mathbf{r})\\phi_\\nu(\\mathbf{r})d\\mathbf{r}$$ kinetic-energy $$T_{\\mu\\nu}=\\int \\phi_\\mu^*(\\mathbf{r}) \\left(-\\frac{1}{2}\\nabla_r^2 \\right) \\phi_\\nu(\\mathbf{r})d\\mathbf{r}$$ nuclear-attraction integrals $$V_{\\mu\\nu}=\\int \\phi_\\mu^*(\\mathbf{r}) \\left(-\\sum_A^N\\frac{Z}{r_A} \\right) \\phi_\\nu(\\mathbf{r})d\\mathbf{r}$$ and store them in appropriately constructed matrices. \n",
    "$$$$\n",
    "Then form the \"core Hamiltonian\" $$H_{\\mu\\nu}^{core}=T_{\\mu\\nu} +V_{\\mu\\nu}$$\n",
    "$$$$\n",
    "Note that the one-electron integrals provided include only the permutationally unique integrals, in the format $$\\begin{matrix} 1 & 1 & A_{11} \\\\ 2 & 1 & A_{21} \\\\ 2 & 2 & A_{22} \\\\ 3 & 1 & A_{31} \\\\ \\vdots & \\ \\ \\vdots & \\ \\ \\vdots \\ \\ \\\\ 7 & 7 & A_{77} \\end{matrix}$$ but we should store the full matrices for convenience. $$\\begin{matrix} A_{11} & \\color{gray}{A_{21}} & \\color{gray}{A_{31}} & \\color{gray}{\\cdots} & \\color{gray}{A_{71}} \\\\ A_{21} & A_{22} & \\color{gray}{A_{32}} & \\color{gray}{\\cdots} & \\color{gray}{A_{72}} \\\\ A_{31} & A_{32} & A_{33} & \\color{gray}{\\cdots} & \\color{gray}{A_{73}} \\\\ \\vdots & \\vdots & \\vdots & \\ddots & \\color{gray}{\\vdots} \\\\ A_{71} & A_{72} & A_{73} & \\cdots & A_{77}\\end{matrix} % usually I'd have used \\textcolor instead of \\color $$\n",
    "\n",
    "Note also that the AO indices on the integrals in the files start with \"$\\ \\ _1$\" rather than \"$\\ \\ _0$\".\n",
    " "
   ]
  },
  {
   "cell_type": "code",
   "execution_count": 66,
   "metadata": {
    "colab": {
     "base_uri": "https://localhost:8080/"
    },
    "id": "UEXaTG22FrzX",
    "outputId": "02d0c9f6-0a6f-423c-cf70-504f257b5b11"
   },
   "outputs": [
    {
     "name": "stdout",
     "output_type": "stream",
     "text": [
      "\n",
      " The core Hamiltonian for the  H₂O  test case is \n",
      "\n",
      "-32.5773954  -7.5788328   0.0000000  -0.0144738   0.0000000  -1.2401023  -1.2401023\n",
      " -7.5788328  -9.2009433   0.0000000  -0.1768902   0.0000000  -2.9067098  -2.9067098\n",
      "  0.0000000   0.0000000  -7.4588193   0.0000000   0.0000000  -1.6751501   1.6751501\n",
      " -0.0144738  -0.1768902   0.0000000  -7.4153118   0.0000000  -1.3568683  -1.3568683\n",
      "  0.0000000   0.0000000   0.0000000   0.0000000  -7.3471449   0.0000000   0.0000000\n",
      " -1.2401023  -2.9067098  -1.6751501  -1.3568683   0.0000000  -4.5401711  -1.0711459\n",
      " -1.2401023  -2.9067098   1.6751501  -1.3568683   0.0000000  -1.0711459  -4.5401711\n",
      "\n"
     ]
    }
   ],
   "source": [
    "Smunu = np.genfromtxt(\"s.dat.txt\")\n",
    "Tmunu = np.genfromtxt(\"t.dat.txt\")\n",
    "Vmunu = np.genfromtxt(\"v.dat.txt\")\n",
    "\n",
    "nAO = int(np.max(Smunu[:,0])) # to get the number of AO, pick-up the max value from 0th column of Smunu\n",
    "# could've got it from 0th/1th column of Smunu/Tmunu/Vmunu, or even 0th/1th/2th/3th column of eri \n",
    "\n",
    "\n",
    "def make_2Dmatrix(X):\n",
    "  A = np.zeros([nAO,nAO])\n",
    "  for a in range(len(X)): # it goes over all the lines of the input array\n",
    "    mu=int(X[a,0]-1)\n",
    "    nu=int(X[a,1]-1)\n",
    "    A[mu,nu]=X[a,2]\n",
    "    A[nu,mu]=X[a,2]\n",
    "  return A\n",
    "\n",
    "S = make_2Dmatrix(Smunu)\n",
    "T = make_2Dmatrix(Tmunu)\n",
    "V = make_2Dmatrix(Vmunu)\n",
    "\n",
    "def add_matrices(X,Y):\n",
    "  Z = np.zeros([len(X),len(X)])\n",
    "  for i in range(len(X)):\n",
    "    for j in range(len(X)):\n",
    "      Z[i,j] = X[i,j]+Y[i,j]\n",
    "  return Z\n",
    "\n",
    "H_core = add_matrices(T,V)\n",
    "\n",
    "def my_print(x):\n",
    "    for row in x:\n",
    "        print(' '.join(map(lambda x: \"{:11.7f}\".format(x), row)))\n",
    "\n",
    "print(\"\\n The core Hamiltonian for the \", molecule, \" test case is \\n\")\n",
    "my_print(H_core)\n",
    "print(\"\\n\",end=\"\")"
   ]
  },
  {
   "cell_type": "markdown",
   "metadata": {
    "id": "UgskqIaWJkJq"
   },
   "source": [
    "### Step 3: **Two-Electron Integrals**"
   ]
  },
  {
   "cell_type": "markdown",
   "metadata": {
    "id": "xaQyXE7qFsFa"
   },
   "source": [
    "Read the two-electron repulsion integrals $$(\\mu\\nu|\\lambda\\sigma) = \\int \\phi_\\mu^*(\\mathbf{r}_1)\\phi_\\nu(\\mathbf{r}_1)\\phi_\\lambda^*(\\mathbf{r}_2)\\phi_\\sigma(\\mathbf{r}_2)d\\mathbf{r}_1 d\\mathbf{r}_2$$ Hence, the integrals obey the eight-fold permutational symmetry relationships $$(\\mu\\nu|\\lambda\\sigma) = (\\nu\\mu|\\lambda\\sigma) = (\\mu\\nu|\\sigma\\lambda) = (\\nu\\mu|\\sigma\\lambda) = (\\lambda\\sigma|\\mu\\nu) = (\\sigma\\lambda|\\mu\\nu) = (\\lambda\\sigma|\\nu\\mu) = (\\sigma\\lambda|\\nu\\mu)$$\n",
    "$$$$\n",
    "Note that only the permutationally unique integrals are provided in the file, in the format (not necessarily in the same order) $$\\begin{matrix} 1 & 1 & 1 & 1 & A_{1111}\\\\ 2 & 1 & 1 & 1 & A_{2111} \\\\ 2 & 2 & 1 & 1 & A_{2211} \\\\ 2 & 1 & 2 & 1 & A_{2121} \\\\ 2 & 2 & 2 & 2 & A_{2222} \\\\ \\vdots & \\vdots & \\vdots & \\vdots & \\vdots \\end{matrix}$$ but we should store the full 4-dimensional tensor.\n",
    "\n",
    "Note also that the AO indices on the integrals in the files start with \"$\\ \\ _1$\" rather than \"$\\ \\ _0$\"."
   ]
  },
  {
   "cell_type": "code",
   "execution_count": 67,
   "metadata": {
    "id": "OJCiYazaF1en"
   },
   "outputs": [],
   "source": [
    "eri = np.genfromtxt(\"eri.dat.txt\")\n",
    "\n",
    "def make_4Dtensor(X):\n",
    "  A = np.zeros([nAO,nAO,nAO,nAO])\n",
    "  for a in range(len(X)): # it goes over all the lines of the input array\n",
    "    mu=int(X[a,0]-1)\n",
    "    nu=int(X[a,1]-1)\n",
    "    lam=int(X[a,2]-1)\n",
    "    sig=int(X[a,3]-1)\n",
    "    A[mu,nu,lam,sig]=X[a,4]\n",
    "    A[nu,mu,lam,sig]=X[a,4]\n",
    "    A[mu,nu,sig,lam]=X[a,4]\n",
    "    A[nu,mu,sig,lam]=X[a,4]\n",
    "    A[lam,sig,mu,nu]=X[a,4]\n",
    "    A[sig,lam,mu,nu]=X[a,4]\n",
    "    A[lam,sig,nu,mu]=X[a,4]\n",
    "    A[sig,lam,nu,mu]=X[a,4]\n",
    "  return A\n",
    "\n",
    "Eri = make_4Dtensor(eri)"
   ]
  },
  {
   "cell_type": "markdown",
   "metadata": {
    "id": "XAvtUWmp_sDB"
   },
   "source": [
    "## **Orthogonalisation of the Basis Set : The $\\mathbf{S^{-1/2}}$ Matrix**"
   ]
  },
  {
   "cell_type": "markdown",
   "metadata": {
    "id": "HPdHVT1nJnd4"
   },
   "source": [
    "### Step 4: **Build the Orthogonalization Matrix**"
   ]
  },
  {
   "cell_type": "markdown",
   "metadata": {
    "id": "zXbSRIeOF1wz"
   },
   "source": [
    "Diagonalize the overlap matrix $$ \\mathbf{S} \\hspace{1pt} \\mathbf{L_S^{\\phantom{}}}= \\mathbf{L_S^{\\phantom{}}} \\hspace{1pt} \\mathbf{\\Lambda_S^{\\phantom{}}} $$ $$\\implies \\mathbf{\\Lambda_S^{\\phantom{}}} = \\mathbf{L_S^\\mathsf{T}} \\hspace{3pt} \\mathbf{S} \\hspace{2pt} \\mathbf{L_S^{\\phantom{}}} $$ where $\\mathbf{L_S^{\\phantom{}}}$ is the matrix of eigenvectors (columns) and $\\mathbf{\\Lambda_S}^{\\phantom{}}$ is the diagonal matrix of corresponding eigenvalues.\n",
    "$$$$\n",
    "Build the symmetric orthogonalization matrix using $$ \\mathbf{S^{-1/2}} = \\mathbf{L_S^{\\phantom{}}} \\hspace{3pt} \\mathbf{\\Lambda_S^{-1/2}} \\hspace{3pt} \\mathbf{L_S^\\mathsf{T}}$$ where the $\\hspace{4pt} \\mathbf{^\\mathsf{T}} $ denotes the matrix transpose."
   ]
  },
  {
   "cell_type": "code",
   "execution_count": 68,
   "metadata": {
    "colab": {
     "base_uri": "https://localhost:8080/"
    },
    "id": "wyVk-OFFF9LI",
    "outputId": "33848f80-9b5b-4268-957a-369149c16a9e"
   },
   "outputs": [
    {
     "name": "stdout",
     "output_type": "stream",
     "text": [
      "\n",
      " The S⁻¹⸍² matrix for the  H₂O  test case is \n",
      "\n",
      "  1.0236346  -0.1368547   0.0000000  -0.0074873   0.0000000   0.0190279   0.0190279\n",
      " -0.1368547   1.1578632  -0.0000000   0.0721601   0.0000000  -0.2223326  -0.2223326\n",
      "  0.0000000  -0.0000000   1.0733148  -0.0000000   0.0000000  -0.1757583   0.1757583\n",
      " -0.0074873   0.0721601  -0.0000000   1.0383050   0.0000000  -0.1184626  -0.1184626\n",
      "  0.0000000   0.0000000   0.0000000   0.0000000   1.0000000   0.0000000   0.0000000\n",
      "  0.0190279  -0.2223326  -0.1757583  -0.1184626   0.0000000   1.1297234  -0.0625975\n",
      "  0.0190279  -0.2223326   0.1757583  -0.1184626   0.0000000  -0.0625975   1.1297234\n",
      "\n"
     ]
    }
   ],
   "source": [
    "S_eigval, S_eigvec = np.linalg.eig(S)\n",
    "\n",
    "lam_S = np.dot(np.transpose(S_eigvec), np.dot(S, S_eigvec)) #we can also use matrix inverse instead of transpose \n",
    "\n",
    "def powerofdiagonalmatrix(X,n): # to ^n only to the diagonal elements of the matrix\n",
    "  for i in range(len(X)):\n",
    "    X[i,i] = X[i,i]**n\n",
    "  return X\n",
    "\n",
    "S_minhalf = np.dot(S_eigvec, np.dot(powerofdiagonalmatrix(lam_S,(-1/2)), np.transpose(S_eigvec))) #we can also use matrix inverse instead of transpose \n",
    "\n",
    "print(\"\\n The S\\u207b\\u00b9\\u2e0d\\u00b2 matrix for the \", molecule, \" test case is \\n\")\n",
    "my_print(S_minhalf)\n",
    "print(\"\\n\",end=\"\")"
   ]
  },
  {
   "cell_type": "markdown",
   "metadata": {
    "id": "TlL08XNfAQW7"
   },
   "source": [
    "## **The Initial (Guess) Density Matrix**"
   ]
  },
  {
   "cell_type": "markdown",
   "metadata": {
    "id": "GPtf0mBHJsEX"
   },
   "source": [
    "### Step 5: **Build the Initial Guess Density**"
   ]
  },
  {
   "cell_type": "markdown",
   "metadata": {
    "id": "k2eEtdNzF9b2"
   },
   "source": [
    "Form an initial (guess) Fock matrix in the orthonormal AO basis using the core Hamiltonian as a guess $$\\mathbf{F^{\\prime}}^0 = \\mathbf{S^{-1/2}}^\\mathsf{T} \\hspace{3pt} \\mathbf{H^{core}} \\hspace{2pt} \\mathbf{S^{-1/2}}$$ \n",
    "$$$$\n",
    "Diagonalize the Fock matrix $$\\mathbf{F^{\\prime}}^0 \\hspace{2pt} \\mathbf{C^\\prime}^0 = \\mathbf{C^\\prime}^0 \\hspace{2pt} \\boldsymbol{\\epsilon}^0$$ $$\\implies \\boldsymbol{\\epsilon}^0 = \\mathbf{C^{\\prime\\mathsf{T}}}^0 \\hspace{3pt} \\mathbf{F^{\\prime}}^0 \\hspace{2pt} \\mathbf{C^\\prime}^0$$ Note that the $\\boldsymbol{\\epsilon}^0$ matrix contains the initial MO energies.\n",
    "$$$$\n",
    "Transform the eigenvectors into the original (non-orthogonal) AO basis $$\\mathbf{C}^0=\\mathbf{S^{-1/2}} \\hspace{2pt} \\mathbf{C^\\prime}^0$$\n",
    "$$$$\n",
    "Build the density matrix using the occupied MOs $$D_{\\mu\\nu}^0 = \\sum_a^{occ} \\hspace{2pt} C^0_{\\mu a} \\hspace{1pt} C^0_{\\nu a}$$  where $\\ \\ _a\\ $ indexes the columns of the coefficient matrices, and the summation includes only the occupied spatial MOs.\n"
   ]
  },
  {
   "cell_type": "code",
   "execution_count": 69,
   "metadata": {
    "colab": {
     "base_uri": "https://localhost:8080/"
    },
    "id": "1Mwlj-k6GETP",
    "outputId": "ee20d6d3-f73a-4264-8d93-da4810aaac35"
   },
   "outputs": [
    {
     "name": "stdout",
     "output_type": "stream",
     "text": [
      "\n",
      " The initial Fock matrix in the orthogonal AO basis for the  H₂O  test case is \n",
      "\n",
      "-32.2545866  -2.7914909  -0.0000000   0.0086110   0.0000000  -0.1812967  -0.1812967\n",
      " -2.7914909  -8.2368891   0.0000000  -0.2282926  -0.0000000  -0.3857987  -0.3857987\n",
      " -0.0000000   0.0000000  -7.5428890   0.0000000   0.0000000  -0.1132121   0.1132121\n",
      "  0.0086110  -0.2282926   0.0000000  -7.4570295  -0.0000000  -0.1102196  -0.1102196\n",
      "  0.0000000  -0.0000000   0.0000000  -0.0000000  -7.3471449  -0.0000000   0.0000000\n",
      " -0.1812967  -0.3857987  -0.1132121  -0.1102196  -0.0000000  -4.0329547  -0.0446466\n",
      " -0.1812967  -0.3857987   0.1132121  -0.1102196   0.0000000  -0.0446466  -4.0329547\n",
      "\n",
      "\n",
      " The initial MO coefficient matrix for the  H₂O  test case is \n",
      "\n",
      "  1.0015436  -0.2336245   0.0000000  -0.0856842  -0.0000000   0.0482226   0.0000000\n",
      " -0.0071893   1.0579388  -0.0000000   0.3601105   0.0000000  -0.4631213  -0.0000000\n",
      "  0.0000000  -0.0000000  -1.0610702  -0.0000000   0.0000000   0.0000000  -0.2965071\n",
      " -0.0002671   0.4272843   0.0000000  -0.9399425  -0.0000000  -0.2129401  -0.0000000\n",
      " -0.0000000   0.0000000   0.0000000  -0.0000000   1.0000000   0.0000000  -0.0000000\n",
      "  0.0018213  -0.1492533   0.1377210   0.0378579  -0.0000000   0.7807003   0.8501403\n",
      "  0.0018213  -0.1492533  -0.1377210   0.0378579   0.0000000   0.7807003  -0.8501403\n",
      "\n",
      "\n",
      " The initial density matrix for the  H₂O  test case is \n",
      "\n",
      "  1.0650117  -0.2852166   0.0000000  -0.0195534  -0.0000000   0.0334496   0.0334496\n",
      " -0.2852166   1.2489657  -0.0000000   0.1135594   0.0000000  -0.1442809  -0.1442809\n",
      "  0.0000000  -0.0000000   1.1258701  -0.0000000  -0.0000000  -0.1461317   0.1461317\n",
      " -0.0195534   0.1135594  -0.0000000   1.0660638   0.0000000  -0.0993583  -0.0993583\n",
      " -0.0000000   0.0000000  -0.0000000   0.0000000   1.0000000   0.0000000  -0.0000000\n",
      "  0.0334496  -0.1442809  -0.1461317  -0.0993583   0.0000000   0.0426802   0.0047460\n",
      "  0.0334496  -0.1442809   0.1461317  -0.0993583  -0.0000000   0.0047460   0.0426802\n",
      "\n"
     ]
    }
   ],
   "source": [
    "F_0prime = np.dot(np.transpose(S_minhalf), np.dot(H_core, S_minhalf))\n",
    "\n",
    "print(\"\\n The initial Fock matrix in the orthogonal AO basis for the \", molecule, \" test case is \\n\")\n",
    "my_print(F_0prime)\n",
    "print(\"\\n\",end=\"\")\n",
    "\n",
    "\n",
    "#F_0prime_eigval, F_0prime_eigvec = np.linalg.eig(F_0prime)    #we are'nt using this, as we want eigenvalues/eigenvectors in a definite(ascending/descending) order\n",
    "def ascending_eigen(A):\n",
    "  eigenValues, eigenVectors = np.linalg.eig(A)\n",
    "  idx = np.argsort(eigenValues) #get the sorting-indexes(ascending) of the eigenvalues\n",
    "  eigenValues = eigenValues[idx] #order the eigenvalues according to the sorting-indexes(ascending)\n",
    "  eigenVectors = eigenVectors[:, idx] #order the eigenvectors according to the sorting-indexes(ascending)\n",
    "  return (eigenValues, eigenVectors)\n",
    "\n",
    "F_0prime_eigval, F_0prime_eigvec = ascending_eigen(F_0prime) # get eigenvalues/eigenvectors in a ascending order\n",
    "\n",
    "epsilon_0 = np.dot(np.transpose(F_0prime_eigvec), np.dot(F_0prime, F_0prime_eigvec)) #we can also use matrix inverse instead of transpose \n",
    "\n",
    "C_0 = np.dot(S_minhalf, F_0prime_eigvec)\n",
    "\n",
    "print(\"\\n The initial MO coefficient matrix for the \", molecule, \" test case is \\n\")\n",
    "my_print(C_0)\n",
    "print(\"\\n\",end=\"\")\n",
    "\n",
    "\n",
    "D_0 = np.zeros([nAO,nAO])\n",
    "\n",
    "for mu in range(nAO):\n",
    "  for nu in range(nAO):\n",
    "    for a in range(int(N/2)):\n",
    "      D_0[mu,nu] += C_0[mu,a]*C_0[nu,a]\n",
    "\n",
    "print(\"\\n The initial density matrix for the \", molecule, \" test case is \\n\")\n",
    "my_print(D_0)\n",
    "print(\"\\n\",end=\"\")"
   ]
  },
  {
   "cell_type": "markdown",
   "metadata": {
    "id": "1o7Mmtu-JwCg"
   },
   "source": [
    "### Step 6: **Compute the Inital SCF Energy**"
   ]
  },
  {
   "cell_type": "markdown",
   "metadata": {
    "id": "oEMrxgLoGEi0"
   },
   "source": [
    "The SCF electronic energy may be computed using the density matrix as $$E^0_{elec} = \\sum_{\\mu\\nu}^{AO} D^0_{\\mu\\nu} \\hspace{1pt} \\Big( H^{core}_{\\mu\\nu} + H^{core}_{\\mu\\nu} \\Big)$$ \n",
    "$$$$\n",
    "The total energy is the sum of the electronic energy and the nuclear repulsion energy $$E^0_{total} = E^0_{elec} + E_{nuc}$$ where $\\ \\ ^0 $ denotes the initial SCF energy.\n"
   ]
  },
  {
   "cell_type": "code",
   "execution_count": 70,
   "metadata": {
    "colab": {
     "base_uri": "https://localhost:8080/"
    },
    "id": "a6BgUAbYGKkA",
    "outputId": "3b9be801-5da4-4ee5-a5c7-c9668526b741"
   },
   "outputs": [
    {
     "name": "stdout",
     "output_type": "stream",
     "text": [
      "\n",
      " The initial Hartree-Fock electronic energy for the  H₂O  test case is  -125.842077437699 Hartrees. \n",
      "\n"
     ]
    }
   ],
   "source": [
    "E_elec = []\n",
    "E_total = []\n",
    "\n",
    "i=0  # iteration counter\n",
    "E_elec.append(0)\n",
    "E_total.append(0)\n",
    "\n",
    "for mu in range(nAO):\n",
    "  for nu in range(nAO):\n",
    "    E_elec[i] += D_0[mu,nu] * ( H_core[mu,nu] + H_core[mu,nu] )\n",
    "\n",
    "E_total[i] = E_elec[i] + E_nuc\n",
    "\n",
    "print(\"\\n The initial Hartree-Fock electronic energy for the \", molecule, \" test case is {:18.12f} Hartrees. \\n\".format(E_elec[0]))"
   ]
  },
  {
   "cell_type": "markdown",
   "metadata": {
    "id": "SN75sL8MAc6_"
   },
   "source": [
    "## **The Self-Consistent Field Iteration**"
   ]
  },
  {
   "cell_type": "markdown",
   "metadata": {
    "id": "RjbMbfW7Jy6m"
   },
   "source": [
    "### Step 7: **Compute the New Fock Matrix**"
   ]
  },
  {
   "cell_type": "markdown",
   "metadata": {
    "id": "lIkddCmXGK0C"
   },
   "source": [
    "Start the SCF iterative procedure by building a new Fock matrix using the previous iteration's density as $$F^i_{\\mu\\nu} = H_{\\mu\\nu}^{core} + \\sum_{\\lambda\\sigma}^{AO} \\hspace{2pt} D_{\\lambda\\sigma}^{i-1} \\hspace{2pt} \\Big[ 2(\\mu\\nu|\\lambda\\sigma) - (\\mu\\lambda|\\nu\\sigma) \\Big]$$ where the double-summation runs over all the AOs and $\\ \\ ^{i-1} $ denotes the density for the last iteration."
   ]
  },
  {
   "cell_type": "code",
   "execution_count": 71,
   "metadata": {
    "colab": {
     "base_uri": "https://localhost:8080/"
    },
    "id": "rYvxOHAwGQC6",
    "outputId": "ccb98928-b12d-4d4a-d67e-7aa69b918533"
   },
   "outputs": [
    {
     "name": "stdout",
     "output_type": "stream",
     "text": [
      "\n",
      " The first-iteration Fock matrix in the AO basis for the  H₂O  test case is \n",
      "\n",
      "-18.8132695  -4.8726875  -0.0000000  -0.0115290   0.0000000  -0.8067323  -0.8067323\n",
      " -4.8726875  -1.7909029  -0.0000000  -0.1808692   0.0000000  -0.5790557  -0.5790557\n",
      " -0.0000000  -0.0000000   0.1939644   0.0000000   0.0000000  -0.1708886   0.1708886\n",
      " -0.0115290  -0.1808692   0.0000000   0.2391247   0.0000000  -0.1828683  -0.1828683\n",
      "  0.0000000   0.0000000   0.0000000   0.0000000   0.3091071   0.0000000   0.0000000\n",
      " -0.8067323  -0.5790557  -0.1708886  -0.1828683   0.0000000  -0.1450338  -0.1846675\n",
      " -0.8067323  -0.5790557   0.1708886  -0.1828683   0.0000000  -0.1846675  -0.1450338\n",
      "\n"
     ]
    }
   ],
   "source": [
    "F = np.zeros([nAO,nAO])\n",
    "\n",
    "def get_new_F(H_core,D,Eri):\n",
    "  F = np.zeros([nAO,nAO])\n",
    "  for mu in range(nAO):\n",
    "    for nu in range(nAO):\n",
    "      F[mu,nu] = H_core[mu,nu]\n",
    "      for lam in range(nAO):\n",
    "        for sig in range(nAO):\n",
    "          F[mu,nu] += D[lam,sig]*( 2*Eri[mu,nu,lam,sig] - Eri[mu,lam,nu,sig] )\n",
    "  return F\n",
    "\n",
    "F = get_new_F(H_core,D_0,Eri)\n",
    "\n",
    "print(\"\\n The first-iteration Fock matrix in the AO basis for the \", molecule, \" test case is \\n\")\n",
    "my_print(F)\n",
    "print(\"\\n\",end=\"\")"
   ]
  },
  {
   "cell_type": "markdown",
   "metadata": {
    "id": "4VimVcepJ1md"
   },
   "source": [
    "### Step 8: **Build the New Density Matrix**"
   ]
  },
  {
   "cell_type": "markdown",
   "metadata": {
    "id": "S7lT0WcDGQZl"
   },
   "source": [
    "Form the new density matrix following the same procedure as in Step 5 above.\n",
    "\n",
    "Orthogonalize $$\\mathbf{F^\\prime}^i = \\mathbf{S^{-1/2}}^\\mathsf{T} \\hspace{2pt} \\mathbf{F}^i \\hspace{2pt} \\mathbf{S^{-1/2}}$$\n",
    "\n",
    "Diagonalize $$\\mathbf{F^\\prime}^i \\hspace{2pt} \\mathbf{C^\\prime}^i=\\mathbf{C^\\prime}^i \\hspace{2pt} \\boldsymbol{\\epsilon}^i$$\n",
    "\n",
    "Back-transform $$\\mathbf{C}^i=\\mathbf{S^{-1/2}} \\hspace{3pt} \\mathbf{C^\\prime}^i$$\n",
    "\n",
    "Compute the density $$D_{\\mu\\nu}^i = \\sum_a^{occ} \\hspace{2pt} C^i_{\\mu a} \\hspace{1pt} C^i_{\\nu a}$$ where $\\ \\ ^i $ denotes the current iteration density."
   ]
  },
  {
   "cell_type": "code",
   "execution_count": 72,
   "metadata": {
    "id": "-HaVoHLYGWqr"
   },
   "outputs": [],
   "source": [
    "def get_new_D(F):\n",
    "  F_prime = np.dot(np.transpose(S_minhalf), np.dot(F, S_minhalf)) #we can also use matrix inverse instead of transpose \n",
    "  \n",
    "  F_prime_eigval, F_prime_eigvec = ascending_eigen(F_prime) # get eigenvalues/eigenvectors in a ascending order\n",
    "\n",
    "  epsilon = np.dot(np.transpose(F_prime_eigvec), np.dot(F_prime, F_prime_eigvec)) #we can also use matrix inverse instead of transpose \n",
    "\n",
    "  C = np.dot(S_minhalf, F_prime_eigvec)\n",
    "\n",
    "\n",
    "  D = np.zeros([nAO,nAO])\n",
    "\n",
    "  for mu in range(nAO):\n",
    "    for nu in range(nAO):\n",
    "      for a in range(int(N/2)):\n",
    "        D[mu,nu] += C[mu,a]*C[nu,a]\n",
    "  \n",
    "  return epsilon, C, D\n",
    "\n",
    "epsilon, C, D = get_new_D(F)"
   ]
  },
  {
   "cell_type": "markdown",
   "metadata": {
    "id": "rATiDvLAJ42P"
   },
   "source": [
    "### Step 9: **Compute the New SCF Energy**"
   ]
  },
  {
   "cell_type": "markdown",
   "metadata": {
    "id": "sI5hqAqMGW91"
   },
   "source": [
    "Compute the new SCF energy as in step 6 above $$E_{elec}^i = \\sum_{\\mu\\nu}^{occ} \\hspace{2pt} D^i_{\\mu\\nu} \\hspace{1pt} \\Big( H^{core}_{\\mu\\nu} + F^i_{\\mu\\nu} \\Big)$$\n",
    "\n",
    "$$E_{total}^i = E_{elec}^i + E_{nuc}$$\n",
    " where $\\ \\ ^i $ denotes the SCF energy for the ith iteration.\n"
   ]
  },
  {
   "cell_type": "code",
   "execution_count": 73,
   "metadata": {
    "id": "a0uhGI2qGdXB"
   },
   "outputs": [],
   "source": [
    "def get_new_E_elec(D,H_core,F,i):\n",
    "  E_elec.append(0)\n",
    "  for mu in range(nAO):\n",
    "    for nu in range(nAO):\n",
    "      E_elec[i] += D[mu,nu]*(H_core[mu,nu]+F[mu,nu])\n",
    "  return E_elec\n",
    "\n",
    "def get_new_E_total(E_elec,E_nuc,i):\n",
    "  E_total.append(0)\n",
    "  E_total[i] = E_elec[i] + E_nuc\n",
    "  return E_total\n",
    "\n",
    "i=1\n",
    "E_elec = get_new_E_elec(D,H_core,F,i)\n",
    "E_total = get_new_E_total(E_elec,E_nuc,i)"
   ]
  },
  {
   "cell_type": "markdown",
   "metadata": {
    "id": "EqL0iI-5J9W_"
   },
   "source": [
    "### Step 10: **Test for Convergence**"
   ]
  },
  {
   "cell_type": "markdown",
   "metadata": {
    "id": "A_XnLmTgGdrC"
   },
   "source": [
    "Test both the energy and the density for convergence $$\\Delta E^i = E_{elec}^i - E_{elec}^{i-1} < \\delta_1$$\n",
    "\n",
    "$${rms_D}^i = \\left[ \\sum_{\\mu\\nu} \\Big( D_{\\mu\\nu}^i - D_{\\mu\\nu}^{i-1} \\Big)^2 \\right]^{1/2} < \\delta_2$$\n",
    "\n",
    "If the difference in consecutive SCF energy and the root-mean-squared difference in consecutive densities do not fall below the prescribed thresholds, return to Step 7 and continue from there."
   ]
  },
  {
   "cell_type": "code",
   "execution_count": 74,
   "metadata": {
    "colab": {
     "base_uri": "https://localhost:8080/"
    },
    "id": "bnIdb_h7GqAh",
    "outputId": "497f4d4b-350d-4fce-e154-c2b87ad59b9f"
   },
   "outputs": [
    {
     "name": "stdout",
     "output_type": "stream",
     "text": [
      "\n",
      " The iteration-by-iteration electronic and total energies for the  H₂O  test case are as follows \n",
      "\n",
      "         E(elec)            E(tot)            Delta(E)            RMS(D)      \n",
      "0   -125.842077437699  -117.839710375888                                      \n",
      "1    -78.286583284740   -70.284216222929    47.555494152959     1.826673084479\n",
      "2    -84.048316253435   -76.045949191625    -5.761732968696     0.479570364860\n",
      "3    -82.716965960854   -74.714598899044     1.331350292581     0.086831688906\n",
      "4    -82.987140757001   -74.984773695191    -0.270174796147     0.031026136359\n",
      "5    -82.938133187513   -74.935766125703     0.049007569488     0.010799283179\n",
      "6    -82.946271078699   -74.943904016889    -0.008137891186     0.005254826831\n",
      "7    -82.944486784914   -74.942119723104     0.001784293785     0.002438579642\n",
      "8    -82.944617252243   -74.942250190433    -0.000130467329     0.001177279531\n",
      "9    -82.944503500703   -74.942136438892     0.000113751541     0.000564543180\n",
      "10   -82.944478930625   -74.942111868815     0.000024570077     0.000272204992\n",
      "11   -82.944461627684   -74.942094565874     0.000017302941     0.000131180309\n",
      "12   -82.944454198375   -74.942087136564     0.000007429310     0.000063275666\n",
      "13   -82.944450445051   -74.942083383240     0.000003753324     0.000030522547\n",
      "14   -82.944448661686   -74.942081599875     0.000001783365     0.000014725847\n",
      "15   -82.944447795931   -74.942080734120     0.000000865755     0.000007104837\n",
      "16   -82.944447379016   -74.942080317206     0.000000416914     0.000003428026\n",
      "17   -82.944447177685   -74.942080115875     0.000000201331     0.000001654014\n",
      "18   -82.944447080565   -74.942080018755     0.000000097120     0.000000798065\n",
      "19   -82.944447033699   -74.942079971888     0.000000046866     0.000000385069\n",
      "20   -82.944447011086   -74.942079949276     0.000000022613     0.000000185798\n",
      "21   -82.944447000175   -74.942079938365     0.000000010911     0.000000089648\n",
      "22   -82.944446994911   -74.942079933100     0.000000005265     0.000000043256\n",
      "23   -82.944446992370   -74.942079930560     0.000000002540     0.000000020871\n",
      "24   -82.944446991145   -74.942079929334     0.000000001226     0.000000010070\n",
      "25   -82.944446990553   -74.942079928743     0.000000000591     0.000000004859\n",
      "26   -82.944446990268   -74.942079928458     0.000000000285     0.000000002345\n",
      "27   -82.944446990130   -74.942079928320     0.000000000138     0.000000001131\n",
      "28   -82.944446990064   -74.942079928253     0.000000000066     0.000000000546\n",
      "29   -82.944446990032   -74.942079928221     0.000000000032     0.000000000263\n",
      "30   -82.944446990016   -74.942079928206     0.000000000015     0.000000000127\n",
      "31   -82.944446990009   -74.942079928198     0.000000000007     0.000000000061\n",
      "32   -82.944446990005   -74.942079928195     0.000000000004     0.000000000030\n",
      "33   -82.944446990004   -74.942079928193     0.000000000002     0.000000000014\n",
      "34   -82.944446990003   -74.942079928192     0.000000000001     0.000000000007\n",
      "\n"
     ]
    }
   ],
   "source": [
    "Delta_E = []\n",
    "Delta_E.append(\"\") # 0th element is empty\n",
    "rms_D = []\n",
    "rms_D.append(\"\") # 0th element is empty\n",
    "\n",
    "def get_new_Delta_E(E_elec,i):\n",
    "  Delta_E.append(0)\n",
    "  Delta_E[i] = E_elec[i] - E_elec[i-1]\n",
    "  return Delta_E\n",
    "\n",
    "def get_new_rms_D(D_old,D,i):\n",
    "  rms_D.append(0)\n",
    "  for mu in range(nAO):\n",
    "    for nu in range(nAO): \n",
    "      rms_D[i] += ( D[mu,nu] - D_old[mu,nu] )**2\n",
    "  rms_D[i] = rms_D[i]**(1/2)\n",
    "  return rms_D\n",
    "\n",
    "i=1\n",
    "D_old = D_0\n",
    "Delta_E = get_new_Delta_E(E_elec,i)\n",
    "rms_D = get_new_rms_D(D_old,D,i)\n",
    "\n",
    "\n",
    "\n",
    "while rms_D[i]>1e-11:\n",
    "  F = get_new_F(H_core,D,Eri)\n",
    "  D_old = D\n",
    "  epsilon, C, D = get_new_D(F)\n",
    "  i += 1\n",
    "  E_elec = get_new_E_elec(D,H_core,F,i)\n",
    "  E_total = get_new_E_total(E_elec,E_nuc,i)\n",
    "  Delta_E = get_new_Delta_E(E_elec,i)\n",
    "  rms_D = get_new_rms_D(D_old,D,i)\n",
    "\n",
    "\n",
    "print(\"\\n The iteration-by-iteration electronic and total energies for the \", molecule, \" test case are as follows \\n\")\n",
    "df = pd.DataFrame(list(zip(E_elec,E_total,Delta_E,rms_D)), columns=['E(elec)','E(tot)','Delta(E)','RMS(D)'])\n",
    "pd.set_option('display.colheader_justify', 'center')\n",
    "pd.set_option('display.width', 1000)\n",
    "pd.options.display.float_format = '{:18.12f}'.format\n",
    "pd.set_option('display.colheader_justify', 'center')\n",
    "print(df)\n",
    "print(\"\\n\",end=\"\")"
   ]
  },
  {
   "cell_type": "markdown",
   "metadata": {
    "id": "Tr5z-CArrtmt"
   },
   "source": [
    "## **Additional Concepts**"
   ]
  },
  {
   "cell_type": "markdown",
   "metadata": {
    "id": "mjS5vmE7r4Jy"
   },
   "source": [
    "### **The MO-Basis Fock Matrix**"
   ]
  },
  {
   "cell_type": "markdown",
   "metadata": {
    "id": "7ZiO0AA_kH-p"
   },
   "source": [
    "At convergence, the canonical Hartree-Fock MOs are, by definition, eigenfunctions of the Fock operator, viz. $$F \\chi_i = \\epsilon_i \\chi_i$$\n",
    "\n",
    "If we multiply on the left by an arbitrary MO and integrate, we obtain $$F_{ij} \\equiv \\epsilon_i \\delta_i = \\langle \\chi_j | F | \\chi_i \\rangle$$\n",
    "\n",
    "In other words, the Fock matrix should be diagonal in the MO basis, with the orbital energies as its diagonal elements. We can demonstrate this explicitly using the AO-basis Fock matrix by first re-writing the above expression using the LCAO-MO coefficients $$F_{ij} = \\sum_{\\mu\\nu} C_{\\mu j} C_{\\nu i} \\langle \\phi_\\mu | F | \\phi_\\nu \\rangle = \\sum_{\\mu\\nu} C_{\\mu j} C_{\\nu i} F_{\\mu\\nu}$$\n",
    "\n",
    "Use the above equation to transform the Fock matrix from the AO basis to the MO basis and demonstrate that it is indeed diagonal (to within the convergence limits of the SCF iterative procedure)."
   ]
  },
  {
   "cell_type": "code",
   "execution_count": 75,
   "metadata": {
    "colab": {
     "base_uri": "https://localhost:8080/"
    },
    "id": "Kzk9NP56jEry",
    "outputId": "ab9e0768-72d1-4e05-d584-6083d6efa75a"
   },
   "outputs": [
    {
     "name": "stdout",
     "output_type": "stream",
     "text": [
      "\n",
      " Fock matrix in MO basis is \n",
      "\n",
      "-20.2628916  -0.0000000  -0.0000000   0.0000000  -0.0000000   0.0000000   0.0000000\n",
      " -0.0000000  -1.2096974   0.0000000   0.0000000   0.0000000   0.0000000  -0.0000000\n",
      " -0.0000000   0.0000000  -0.5479646   0.0000000  -0.0000000   0.0000000  -0.0000000\n",
      "  0.0000000   0.0000000   0.0000000  -0.4365272   0.0000000  -0.0000000   0.0000000\n",
      " -0.0000000   0.0000000  -0.0000000   0.0000000  -0.3875867  -0.0000000   0.0000000\n",
      "  0.0000000   0.0000000   0.0000000  -0.0000000  -0.0000000   0.4776187  -0.0000000\n",
      "  0.0000000   0.0000000   0.0000000  -0.0000000   0.0000000  -0.0000000   0.5881393\n",
      "\n"
     ]
    }
   ],
   "source": [
    "F_MO = np.zeros([nAO,nAO])\n",
    "\n",
    "for i in range(nAO):\n",
    "  for j in range(nAO):\n",
    "\n",
    "    for mu in range(nAO):\n",
    "      for nu in range(nAO):\n",
    "\n",
    "        F_MO[i,j] += C[mu,j]*C[nu,i]*F[mu,nu]\n",
    "\n",
    "\n",
    "print(\"\\n Fock matrix in MO basis is \\n\")\n",
    "my_print(F_MO) #actually same as epsilon\n",
    "print(\"\\n\",end=\"\")"
   ]
  },
  {
   "cell_type": "markdown",
   "metadata": {
    "id": "N269qMl8r8BM"
   },
   "source": [
    "### **One-Electron Properties**"
   ]
  },
  {
   "cell_type": "markdown",
   "metadata": {
    "id": "H06gQVKAogza"
   },
   "source": [
    "The calculation of one-electron properties requires density matrix and the relevant property integrals. The electronic contribution to the electric-dipole moment may be computed using, $$\\vec{\\mu}_{elec} = 2\\sum_{\\mu\\nu} D_{\\mu\\nu} \\hspace{2pt} \\langle \\phi_{\\mu} | \\vec{\\mu}_{elec} | \\phi_{\\nu} \\rangle $$ where the vector notation implies three sets of dipole-moment integrals -- one for each Cartesian component of the dipole operator. $$\\mu^x_{elec} = 2\\sum_{\\mu\\nu} D_{\\mu\\nu} \\hspace{2pt} \\langle \\phi_{\\mu} | \\mu^x_{elec} | \\phi_{\\nu} \\rangle \\quad \\mu^y_{elec} = 2\\sum_{\\mu\\nu} D_{\\mu\\nu} \\hspace{2pt} \\langle \\phi_{\\mu} | \\mu^y_{elec} | \\phi_{\\nu} \\rangle \\quad \\mu^z_{elec} = 2\\sum_{\\mu\\nu} D_{\\mu\\nu} \\hspace{2pt} \\langle \\phi_{\\mu} | \\mu^z_{elec} | \\phi_{\\nu} \\rangle $$ The factor 2 appearing above arises because the definition of the density used in this project differs from that used in Szabo & Ostlund.\n",
    "$$$$\n",
    "In order to compute the total dipole moment, we must include the nuclear contribution, which requires the atomic numbers $Z$ ( ≡ charge $q$) and Cartesian coordinates $\\vec{r}$ of the nuclei $$\\vec{\\mu}_{nuc} = \\sum_i \\hspace{1pt} q_i \\hspace{2pt} (\\vec{r}_i - \\vec{r}_{cm})$$ where $\\vec{r}_{cm}$ is the Cartesian coordiate of centre-of-mass.\n",
    "$$$$\n",
    "Hence the total dipole moment $$\\vec{\\mu} = \\vec{\\mu}_{elec} + \\vec{\\mu}_{nuc}$$"
   ]
  },
  {
   "cell_type": "code",
   "execution_count": 76,
   "metadata": {
    "colab": {
     "base_uri": "https://localhost:8080/"
    },
    "id": "xLoUE0G4p3o3",
    "outputId": "4a7b424f-7a5d-4abb-ceae-3478ac688377"
   },
   "outputs": [
    {
     "name": "stdout",
     "output_type": "stream",
     "text": [
      "\n",
      " Dipole moment \n",
      "\n",
      "μˣ =    0.000000000000 \n",
      "μʸ =    0.603521296526 \n",
      "μᶻ =   -0.000000000000 \n",
      "\n"
     ]
    }
   ],
   "source": [
    "masses = np.array([0.,1.00782503207,4.00260325415,7.016004548,9.012182201,11.009305406, 12,14.00307400478,15.99491461956,18.998403224,19.99244017542,\n",
    "22.98976928087,23.985041699,26.981538627,27.97692653246,30.973761629,31.972070999,34.968852682,39.96238312251,38.963706679,39.962590983,44.955911909,\n",
    "47.947946281,50.943959507,51.940507472,54.938045141,55.934937475,58.933195048,57.935342907,62.929597474,63.929142222,68.925573587,73.921177767,\n",
    "74.921596478,79.916521271,78.918337087,85.910610729,84.911789737,87.905612124,88.905848295,89.904704416,92.906378058,97.905408169,98.906254747,\n",
    "101.904349312,102.905504292,105.903485715,106.90509682,113.90335854,114.903878484,119.902194676,120.903815686,129.906224399,126.904472681,131.904153457,\n",
    "132.905451932,137.905247237,138.906353267,139.905438706,140.907652769,141.907723297,144.912749023,151.919732425,152.921230339,157.924103912,158.925346757,\n",
    "163.929174751,164.93032207,165.930293061,168.93421325,173.938862089,174.940771819,179.946549953,180.947995763,183.950931188,186.955753109,191.96148069,\n",
    "192.96292643,194.964791134,196.966568662,201.970643011,204.974427541,207.976652071,208.980398734,208.982430435,210.987496271,222.017577738,222.01755173,\n",
    "228.031070292,227.027752127,232.038055325,231.03588399,238.050788247,237.048173444,242.058742611,243.06138108,247.07035354,247.07030708,251.079586788,\n",
    "252.082978512,257.095104724,258.098431319,255.093241131,260.105504,263.112547,255.107398,259.114500,262.122892,263.128558,265.136151,281.162061,272.153615,\n",
    "283.171792,283.176451,285.183698,287.191186,292.199786,291.206564,293.214670]) #data taken from https://github.com/psi4/psi3/blob/master/include/masses.h 😏\n",
    "\n",
    "def add_mass_column(geom): # to dd a column to the geom, for the mass of the atoms\n",
    "  geom = np.c_[geom, np.zeros(len(geom))]  # add an all-zero column to our geom array\n",
    "  for i in range(len(geom)): \n",
    "    geom[i,4] = masses[int(geom[i,0])]\n",
    "  return geom\n",
    "\n",
    "def center_of_mass(geom):\n",
    "  cm = np.zeros([3])\n",
    "  xcm_num=0\n",
    "  ycm_num=0\n",
    "  zcm_num=0\n",
    "  denom=0\n",
    "  for i in range(len(geom)):\n",
    "    xcm_num += geom[i,4]*geom[i,1]\n",
    "    ycm_num += geom[i,4]*geom[i,2]\n",
    "    zcm_num += geom[i,4]*geom[i,3]\n",
    "    denom += geom[i,4]\n",
    "  cm[0] = xcm_num/denom\n",
    "  cm[1] = ycm_num/denom\n",
    "  cm[2] = zcm_num/denom\n",
    "  return cm\n",
    "\n",
    "\n",
    "Muxmunu = np.genfromtxt(\"mux.dat.txt\")\n",
    "Muymunu = np.genfromtxt(\"muy.dat.txt\")\n",
    "Muzmunu = np.genfromtxt(\"muz.dat.txt\")\n",
    "\n",
    "Mux = make_2Dmatrix(Muxmunu)\n",
    "Muy = make_2Dmatrix(Muymunu)\n",
    "Muz = make_2Dmatrix(Muzmunu)\n",
    "\n",
    "def electronic_dipolemoment(D,Mux,Muy,Muz):\n",
    "  Dipole_elec = np.zeros([3])\n",
    "  \n",
    "  for mu in range(nAO):\n",
    "    for nu in range(nAO):\n",
    "      Dipole_elec[0] += D[mu,nu]*Mux[mu,nu]\n",
    "  Dipole_elec[0] *= 2\n",
    "\n",
    "  for mu in range(nAO):\n",
    "    for nu in range(nAO):\n",
    "      Dipole_elec[1] += D[mu,nu]*Muy[mu,nu]\n",
    "  Dipole_elec[1] *= 2\n",
    "\n",
    "  for mu in range(nAO):\n",
    "    for nu in range(nAO):\n",
    "      Dipole_elec[2] += D[mu,nu]*Muz[mu,nu]\n",
    "  Dipole_elec[2] *= 2\n",
    "\n",
    "  return Dipole_elec\n",
    "\n",
    "Dipole_elec = electronic_dipolemoment(D,Mux,Muy,Muz)\n",
    "\n",
    "\n",
    "geom3 = np.genfromtxt(\"geom.dat.txt\", skip_header=1)\n",
    "geom3=add_mass_column(geom3) # now the geom array has a 4th column, for the mass of the atoms\n",
    "\n",
    "cm = center_of_mass(geom3)\n",
    "\n",
    "def nuclear_dipolemoment(geom):\n",
    "  Dipole_nuc = np.zeros([3])\n",
    "  for i in range(3): #for each coordinate\n",
    "    for A in range(len(geom)): #for each atom\n",
    "      Dipole_nuc[i] += geom[A,0]*(geom[A,i+1]-cm[i])\n",
    "  return Dipole_nuc\n",
    "\n",
    "Dipole_nuc = nuclear_dipolemoment(geom3)\n",
    "\n",
    "\n",
    "Dipole = np.add(Dipole_elec, Dipole_nuc)\n",
    "\n",
    "\n",
    "print(\"\\n Dipole moment \\n\")\n",
    "print(\"\\u03bc\\u02e3 =  {:16.12f} \\n\\u03bc\\u02b8 =  {:16.12f} \\n\\u03bc\\u1dbb =  {:16.12f} \\n\".format(Dipole[0],Dipole[1],Dipole[2]))"
   ]
  },
  {
   "cell_type": "markdown",
   "metadata": {
    "id": "MJwIH3UCouWj"
   },
   "source": [
    "### **Population Analysis/Atomic Charges**"
   ]
  },
  {
   "cell_type": "markdown",
   "metadata": {
    "id": "QowGZZ-row1m"
   },
   "source": [
    "A Mulliken population analysis requires the overlap integrals and the electron density, in addition to information about the number of basis functions centered on each atom. The charge on atom A may be computed as $$q_A = Z_A - 2 \\sum_{\\mu\\in A} (\\mathbf{DS})_{\\mu\\mu}$$ where the summation is limited to only those basis functions centered on atom A."
   ]
  },
  {
   "cell_type": "code",
   "execution_count": 77,
   "metadata": {
    "colab": {
     "base_uri": "https://localhost:8080/"
    },
    "id": "te7bioQFoxcw",
    "outputId": "a76dcdc8-1d78-4a52-c2b8-b15da4e4023e"
   },
   "outputs": [
    {
     "name": "stdout",
     "output_type": "stream",
     "text": [
      "\n",
      " Atomic charges \n",
      "\n",
      "Charge on atom 0 =    -0.253146052405\n",
      "Charge on atom 1 =     0.126573026202\n",
      "Charge on atom 2 =     0.126573026202\n",
      "\n"
     ]
    }
   ],
   "source": [
    "def sum_arr_upto(X,n): # X is the 1D array, n is upto how many elements we want the sum\n",
    "  sum = 0\n",
    "  for i in range(n):\n",
    "    sum += X[i]\n",
    "  return sum\n",
    "\n",
    "\n",
    "q = np.zeros([len(geom3)])\n",
    "\n",
    "print(\"\\n Atomic charges \\n\")\n",
    "for A in range(len(geom3)):\n",
    "  thesum = 0\n",
    "  for mu in range(sum_arr_upto(n_basis,A),sum_arr_upto(n_basis,A+1)):\n",
    "    thesum += np.dot(D,S)[mu,mu]\n",
    "  q[A] = geom3[A,0] - 2*thesum\n",
    "  print(\"Charge on atom {:1.0f} =   {:16.12f}\".format(A,q[A]))\n",
    "print(\"\\n\",end=\"\")"
   ]
  },
  {
   "cell_type": "markdown",
   "metadata": {
    "id": "vWI1fWMcGMFd"
   },
   "source": [
    "# Project 4: **The second-order Moller-Plesset perturbation (MP2) energy**"
   ]
  },
  {
   "cell_type": "markdown",
   "metadata": {
    "id": "Xa1QVec5Ljch"
   },
   "source": [
    "Unlike the Hartree-Fock energy, correlation energies like the MP2 energy are usually expressed in terms of MO-basis quantities (integrals, MO energies)."
   ]
  },
  {
   "cell_type": "markdown",
   "metadata": {
    "id": "OVVjT0oOGbj-"
   },
   "source": [
    "### Step 1: **Read the Two-Electron Integrals**\n"
   ]
  },
  {
   "cell_type": "markdown",
   "metadata": {
    "id": "4WPQLQ5OIP1t"
   },
   "source": [
    "Same as Step 3 of Project 3"
   ]
  },
  {
   "cell_type": "markdown",
   "metadata": {
    "id": "oIfAqMnMG13q"
   },
   "source": [
    "### Step 2: **Obtain the MO Coefficients and MO Energies**\n"
   ]
  },
  {
   "cell_type": "markdown",
   "metadata": {
    "id": "wr3GhUtjMv1P"
   },
   "source": [
    "The MO Coefficients values $C_{\\mu p}$ and MO energies $\\epsilon_p$ computed in the Hartree-Fock program of Project 3."
   ]
  },
  {
   "cell_type": "markdown",
   "metadata": {
    "id": "mqMLLXMVG8-R"
   },
   "source": [
    "### Step 3: **Transform the Two-Electron Integrals to the MO Basis**\n"
   ]
  },
  {
   "cell_type": "markdown",
   "metadata": {
    "id": "XtQpKmF5M8Lc"
   },
   "source": [
    "This is the most expensive part of the calculation.\n",
    "$$$$\n",
    "\n",
    "**Noddy Algorithm**\n",
    "\n",
    "The most straightforward expression of the AO/MO integral transformation is $$(pq|rs) = \\sum_\\mu \\sum_\\nu \\sum_\\lambda \\sum_\\sigma C_{\\mu p} \\hspace{1pt} C_{\\nu q} \\hspace{1pt} (\\mu\\nu|\\lambda\\sigma) \\hspace{1pt} C_{\\lambda r} \\hspace{1pt} C_{\\sigma s}$$ This approach is easy to implement, but is expensive due to its $\\mathcal{O(n^8)}$ computational order.\n",
    "\n",
    "$$$$\n",
    "\n",
    "**The Smarter Algorithm**\n",
    "\n",
    "Notice that none of the $C$ coefficients in the above expression have any indices in common. Thus, the summation could be rearranged such that $$(pq|rs) = \\sum_\\mu C_{\\mu p} \\Bigg[ \\sum_\\nu C_{\\nu q} \\Bigg[ \\sum_\\lambda C_{\\lambda r} \\Bigg[ \\sum_\\sigma C_{\\sigma s} \\hspace{1pt} (\\mu\\nu|\\lambda\\sigma) \\Bigg] \\Bigg] \\Bigg]$$ This means that each summation within brackets could be carried out separately, if we store the results at each step. This reduces the $\\mathcal{O(n^8)}$ algorithm above to four $\\mathcal{O(n^5)}$ steps."
   ]
  },
  {
   "cell_type": "code",
   "execution_count": 78,
   "metadata": {
    "id": "yjpFUmPsSOsA"
   },
   "outputs": [],
   "source": [
    "Eri_MO = np.zeros([nAO,nAO,nAO,nAO])\n",
    "\n",
    "for p in range(nAO):\n",
    "  for q in range(nAO):\n",
    "    for r in range(nAO):\n",
    "      for s in range(nAO):\n",
    "\n",
    "        for mu in range(nAO):\n",
    "          for nu in range(nAO):\n",
    "            for lam in range(nAO):\n",
    "              for sig in range(nAO):\n",
    "\n",
    "                Eri_MO[p,q,r,s] += C[mu,p]*C[nu,q]*C[lam,r]*C[sig,s]*Eri[mu,nu,lam,sig]\n"
   ]
  },
  {
   "cell_type": "markdown",
   "metadata": {
    "id": "Y-kOcwEAHLI7"
   },
   "source": [
    "### Step 4: **Compute the MP2 Energy**"
   ]
  },
  {
   "cell_type": "markdown",
   "metadata": {
    "id": "r1z4RGNASwWA"
   },
   "source": [
    "$$E_{MP2} = \\sum_{ij} \\sum_{ab} \\frac{(ia|jb) \\hspace{1pt} \\Big[ 2(ia|jb) - (ib|ja) \\Big]}{\\epsilon_i + \\epsilon_j - \\epsilon_a - \\epsilon_b}$$ \n",
    "where $i$ and $j$ denote doubly-occupied orbitals and $a$ and $b$ unoccupied orbitals, and the denominator involves the MO energies."
   ]
  },
  {
   "cell_type": "code",
   "execution_count": 79,
   "metadata": {
    "colab": {
     "base_uri": "https://localhost:8080/"
    },
    "id": "cLkE4mN2YE68",
    "outputId": "3ee51119-f13b-4d90-89f3-9a8d3348faf0"
   },
   "outputs": [
    {
     "name": "stdout",
     "output_type": "stream",
     "text": [
      "\n",
      " Escf =    -74.942079928192\n",
      " Emp2 =     -0.049149636120\n",
      "⎯⎯⎯⎯⎯⎯⎯⎯⎯⎯⎯⎯⎯⎯⎯⎯⎯⎯⎯⎯⎯⎯⎯⎯⎯⎯⎯⎯⎯⎯\n",
      " Etot =    -74.991229564312 \n",
      "\n"
     ]
    }
   ],
   "source": [
    "Emp2 = 0\n",
    "\n",
    "for i in range(int(N/2)):\n",
    "  for j in range(int(N/2)):\n",
    "\n",
    "    for a in range(int(N/2),nAO):\n",
    "      for b in range(int(N/2),nAO):\n",
    "\n",
    "        Emp2 += Eri_MO[i,a,j,b] * (2*Eri_MO[i,a,j,b]-Eri_MO[i,b,j,a]) / (epsilon[i,i]+epsilon[j,j]-epsilon[a,a]-epsilon[b,b])\n",
    "\n",
    "\n",
    "Escf = E_total[-1]\n",
    "Etot = Escf + Emp2\n",
    "\n",
    "print(\"\\n Escf =  {:18.12f}\".format(Escf))\n",
    "print(\" Emp2 =  {:18.12f}\".format(Emp2))\n",
    "print(\"\\u23af\"*30)\n",
    "print(\" Etot =  {:18.12f} \\n\".format(Etot))"
   ]
  }
 ],
 "metadata": {
  "colab": {
   "collapsed_sections": [],
   "provenance": []
  },
  "kernelspec": {
   "display_name": "Python 3 (ipykernel)",
   "language": "python",
   "name": "python3"
  },
  "language_info": {
   "codemirror_mode": {
    "name": "ipython",
    "version": 3
   },
   "file_extension": ".py",
   "mimetype": "text/x-python",
   "name": "python",
   "nbconvert_exporter": "python",
   "pygments_lexer": "ipython3",
   "version": "3.10.5"
  },
  "vscode": {
   "interpreter": {
    "hash": "52d47462dcd2040b95b95cd05145b2336d7096fb6b0e82a970983a1e7ce299cb"
   }
  }
 },
 "nbformat": 4,
 "nbformat_minor": 4
}
